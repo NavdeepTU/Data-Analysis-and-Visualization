{
 "cells": [
  {
   "cell_type": "code",
   "execution_count": 1,
   "metadata": {},
   "outputs": [],
   "source": [
    "# NumPy (or Numpy) is a Linear Algebra Library for Python, the reason it is so \n",
    "# important for Data Science with Python is that almost all of the libraries in the PyData\n",
    "# Ecosystem rely on NumPy as one of their main building blocks.\n",
    "\n",
    "# Numpy is also incredibly fast, as it has bindings to C libraries.\n",
    "\n",
    "# If you have Anaconda, install NumPy by going to your terminal or command prompt and typing:\n",
    "# conda install numpy\n",
    "# pip install numpy"
   ]
  },
  {
   "cell_type": "code",
   "execution_count": 2,
   "metadata": {},
   "outputs": [],
   "source": [
    "# Numpy arrays essentially come in two flavors: vectors and matrices.\n",
    "# Vectors are strictly 1-d arrays and matrices are 2-d (but you should note a matrix \n",
    "# can still have only one row or one column)."
   ]
  },
  {
   "cell_type": "code",
   "execution_count": null,
   "metadata": {},
   "outputs": [],
   "source": []
  }
 ],
 "metadata": {
  "kernelspec": {
   "display_name": "Python 3",
   "language": "python",
   "name": "python3"
  },
  "language_info": {
   "codemirror_mode": {
    "name": "ipython",
    "version": 3
   },
   "file_extension": ".py",
   "mimetype": "text/x-python",
   "name": "python",
   "nbconvert_exporter": "python",
   "pygments_lexer": "ipython3",
   "version": "3.6.6"
  }
 },
 "nbformat": 4,
 "nbformat_minor": 2
}
