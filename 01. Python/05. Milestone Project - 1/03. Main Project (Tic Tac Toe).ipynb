{
 "cells": [
  {
   "cell_type": "code",
   "execution_count": 1,
   "metadata": {},
   "outputs": [],
   "source": [
    "# Let's describe what the game will be like...\n",
    "# 2 players should be able to play the game (both sitting at the same computer)\n",
    "# The board should be printed out every time a player makes a move\n",
    "# You should be able to accept input of the player position and then place a symbol on the board.\n",
    "# We will use the \"numpad\" to match numbers to the grid on a tic tac toe board :\n",
    "# 7 8 9\n",
    "# 4 5 6\n",
    "# 1 2 3"
   ]
  },
  {
   "cell_type": "code",
   "execution_count": 2,
   "metadata": {},
   "outputs": [],
   "source": [
    "# To clear the screen between moves:\n",
    "\n",
    "# from IPython.display import clear_output\n",
    "# clear_output()\n",
    "\n",
    "# Note that clear_output() will only work in jupyter. To clear the screen in other IDEs, consider:\n",
    "\n",
    "# print('\\n'*100)\n",
    "\n",
    "# This scrolls the previous board up out of view. Now on to the program!"
   ]
  },
  {
   "cell_type": "code",
   "execution_count": 3,
   "metadata": {},
   "outputs": [],
   "source": [
    "# Step 1: Write a function that can print out a board. Set up your board as a list, \n",
    "# where each index 1-9 corresponds with a number on a number pad, so you get a 3 by 3 \n",
    "# board representation.\n",
    "\n",
    "from IPython.display import clear_output\n",
    "\n",
    "def display_board(board):\n",
    "    print(\"     |     |     \")\n",
    "    print(\"  \"+board[6]+\"  |  \"+board[7]+\"  |  \"+board[8]+\"  \")\n",
    "    print(\"     |     |     \")\n",
    "    print(\"================\")\n",
    "    print(\"     |     |     \")\n",
    "    print(\"  \"+board[3]+\"  |  \"+board[4]+\"  |  \"+board[5]+\"  \")\n",
    "    print(\"     |     |     \")\n",
    "    print(\"================\")\n",
    "    print(\"     |     |     \")\n",
    "    print(\"  \"+board[0]+\"  |  \"+board[1]+\"  |  \"+board[2]+\"  \")\n",
    "    print(\"     |     |     \")"
   ]
  },
  {
   "cell_type": "code",
   "execution_count": 4,
   "metadata": {},
   "outputs": [
    {
     "name": "stdout",
     "output_type": "stream",
     "text": [
      "     |     |     \n",
      "  O  |  X  |  O  \n",
      "     |     |     \n",
      "================\n",
      "     |     |     \n",
      "  X  |  O  |  X  \n",
      "     |     |     \n",
      "================\n",
      "     |     |     \n",
      "  #  |  X  |  O  \n",
      "     |     |     \n"
     ]
    }
   ],
   "source": [
    "test_board = ['#','X','O','X','O','X','O','X','O','X']\n",
    "display_board(test_board)"
   ]
  },
  {
   "cell_type": "code",
   "execution_count": 5,
   "metadata": {},
   "outputs": [],
   "source": [
    "# Step 2: Write a function that can take in a player input and assign their \n",
    "# marker as 'X' or 'O'. Think about using while loops to continually ask until you get \n",
    "# a correct answer.\n",
    "\n",
    "def player_input():\n",
    "    \n",
    "    choice = 'Wrong'\n",
    "    \n",
    "    while choice not in ['X', 'O']:\n",
    "        \n",
    "        choice = input(\"Player 1: Do you want to be X or O?\")\n",
    "        \n",
    "        if choice not in ['X', 'O']:\n",
    "            print(\"Sorry invalid choice, select between X or O\")\n",
    "    \n",
    "    return choice"
   ]
  },
  {
   "cell_type": "code",
   "execution_count": 6,
   "metadata": {},
   "outputs": [
    {
     "name": "stdout",
     "output_type": "stream",
     "text": [
      "Player 1: Do you want to be X or O?O\n"
     ]
    },
    {
     "data": {
      "text/plain": [
       "'O'"
      ]
     },
     "execution_count": 6,
     "metadata": {},
     "output_type": "execute_result"
    }
   ],
   "source": [
    "player_input()"
   ]
  },
  {
   "cell_type": "code",
   "execution_count": 7,
   "metadata": {},
   "outputs": [],
   "source": [
    "# Step 3: Write a function that takes in the board list object, a marker \n",
    "# ('X' or 'O'), and a desired position (number 1-9) and assigns it to the board.\n",
    "\n",
    "def place_marker(board, marker, position):\n",
    "    board[position - 1] = marker \n",
    "    return board"
   ]
  },
  {
   "cell_type": "code",
   "execution_count": 8,
   "metadata": {},
   "outputs": [
    {
     "name": "stdout",
     "output_type": "stream",
     "text": [
      "     |     |     \n",
      "  O  |  X  |  O  \n",
      "     |     |     \n",
      "================\n",
      "     |     |     \n",
      "  X  |  O  |  X  \n",
      "     |     |     \n",
      "================\n",
      "     |     |     \n",
      "  #  |  X  |  O  \n",
      "     |     |     \n"
     ]
    }
   ],
   "source": [
    "place_marker(test_board,'X',4)\n",
    "display_board(test_board)"
   ]
  },
  {
   "cell_type": "code",
   "execution_count": 9,
   "metadata": {},
   "outputs": [],
   "source": [
    "# Step 4: Write a function that takes in a board and a mark (X or O) and then \n",
    "# checks to see if that mark has won.\n",
    "\n",
    "def win_check(board, mark):\n",
    "    \n",
    "    has_won = False\n",
    "    \n",
    "    bottom_left = board[0]\n",
    "    bottom_mid = board[1]\n",
    "    bottom_right = board[2]\n",
    "    mid_left = board[3]\n",
    "    mid_mid = board[4]\n",
    "    mid_right = board[5]\n",
    "    top_left = board[6]\n",
    "    top_mid = board[7]\n",
    "    top_right = board[8]\n",
    "    \n",
    "    # Checking rows\n",
    "    if bottom_left == mark and bottom_mid == mark and bottom_right == mark:\n",
    "        has_won = True\n",
    "    elif mid_left == mark and mid_mid == mark and mid_right == mark:\n",
    "        has_won = True\n",
    "    elif top_left == mark and top_mid == mark and top_right == mark:\n",
    "        has_won = True\n",
    "        \n",
    "    # Checking columns\n",
    "    elif bottom_left == mark and mid_left == mark and top_left == mark:\n",
    "        has_won = True\n",
    "    elif bottom_mid == mark and mid_mid == mark and top_mid == mark:\n",
    "        has_won = True\n",
    "    elif bottom_right == mark and mid_right == mark and top_right == mark:\n",
    "        has_won = True\n",
    "        \n",
    "    # Checking diagonals\n",
    "    elif bottom_left == mark and mid_mid == mark and top_right == mark:\n",
    "        has_won = True\n",
    "    elif bottom_right == mark and mid_mid == mark and top_left == mark:\n",
    "        has_won = True\n",
    "    \n",
    "    return has_won"
   ]
  },
  {
   "cell_type": "code",
   "execution_count": 10,
   "metadata": {},
   "outputs": [
    {
     "data": {
      "text/plain": [
       "False"
      ]
     },
     "execution_count": 10,
     "metadata": {},
     "output_type": "execute_result"
    }
   ],
   "source": [
    "win_check(test_board,'X')"
   ]
  },
  {
   "cell_type": "code",
   "execution_count": 11,
   "metadata": {},
   "outputs": [],
   "source": [
    "# Step 5: Write a function that uses the random module to randomly decide which player \n",
    "# goes first. You may want to lookup random.randint() Return a string of which player \n",
    "# went first.\n",
    "\n",
    "from random import randint\n",
    "\n",
    "def choose_first():\n",
    "    \n",
    "    player_going_first = 0\n",
    "    \n",
    "    player = randint(1, 2)\n",
    "    \n",
    "    if player == 1:\n",
    "        player_going_first = 1\n",
    "    else:\n",
    "        player_going_first = 2\n",
    "    \n",
    "    return player_going_first"
   ]
  },
  {
   "cell_type": "code",
   "execution_count": 12,
   "metadata": {},
   "outputs": [],
   "source": [
    "# Step 6: Write a function that returns a boolean indicating whether a space \n",
    "# on the board is freely available.\n",
    "\n",
    "def space_check(board, position):\n",
    "    \n",
    "    is_available = False\n",
    "    \n",
    "    print(board[position-1])\n",
    "    if board[position-1] == ' ':\n",
    "        is_available = True\n",
    "    \n",
    "    return is_available"
   ]
  },
  {
   "cell_type": "code",
   "execution_count": 13,
   "metadata": {},
   "outputs": [],
   "source": [
    "# Step 7: Write a function that checks if the board is full and returns a \n",
    "# boolean value. True if full, False otherwise.\n",
    "\n",
    "def full_board_check(board):\n",
    "    \n",
    "    is_full = True\n",
    "    \n",
    "    for i in range(9):\n",
    "        if board[i] == ' ':\n",
    "            is_full = False\n",
    "    \n",
    "    return is_full"
   ]
  },
  {
   "cell_type": "code",
   "execution_count": 14,
   "metadata": {},
   "outputs": [],
   "source": [
    "# Step 8: Write a function that asks for a player's next position (as a number 1-9) \n",
    "# and then uses the function from step 6 to check if it's a free position. If it is, \n",
    "# then return the position for later use.\n",
    "\n",
    "def player_choice(board):\n",
    "    \n",
    "    choice = 'Wrong'\n",
    "    \n",
    "    while True:\n",
    "        choice = input('Choose your next position: (1-9)')\n",
    "        \n",
    "        if choice not in ['1', '2', '3', '4', '5', '6', '7', '8', '9']:\n",
    "            print('Invalid, Please select between (1-9):')\n",
    "        elif space_check(board, int(choice)) == False:\n",
    "            print('Invalid, Space not free, Please select another position:')\n",
    "        else:\n",
    "            break\n",
    "    \n",
    "    return int(choice)\n",
    "        "
   ]
  },
  {
   "cell_type": "code",
   "execution_count": 15,
   "metadata": {},
   "outputs": [],
   "source": [
    "# Step 9: Write a function that asks the player if they want to play again \n",
    "# and returns a boolean True if they do want to play again.\n",
    "\n",
    "def replay():\n",
    "    \n",
    "    choice = 'Wrong'\n",
    "    \n",
    "    while choice not in ['Yes', 'No']:\n",
    "        \n",
    "        choice = input(\"Do you want to play again? Enter Yes or No: \")\n",
    "    \n",
    "    if choice == 'Yes':\n",
    "        return True\n",
    "    else:\n",
    "        return False"
   ]
  },
  {
   "cell_type": "code",
   "execution_count": 16,
   "metadata": {},
   "outputs": [
    {
     "name": "stdout",
     "output_type": "stream",
     "text": [
      "     |     |     \n",
      "  O  |     |     \n",
      "     |     |     \n",
      "================\n",
      "     |     |     \n",
      "  X  |  O  |  X  \n",
      "     |     |     \n",
      "================\n",
      "     |     |     \n",
      "  O  |  X  |  O  \n",
      "     |     |     \n",
      "Congratulations! Player2 has won the game!\n",
      "Do you want to play again? Enter Yes or No: No\n"
     ]
    }
   ],
   "source": [
    "# Step 10: Here comes the hard part! Use while loops and the functions you've made \n",
    "# to run the game!\n",
    "\n",
    "print('Welcome to Tic Tac Toe !')\n",
    "while True:\n",
    "    # Set the game up here\n",
    "    board = [' ', ' ', ' ', ' ', ' ', ' ', ' ', ' ', ' ']\n",
    "    player1_marker = player_input()\n",
    "    if player1_marker == 'X':\n",
    "        player2_marker = 'O'\n",
    "    elif player1_marker == 'O':\n",
    "        player2_marker = 'X'\n",
    "    player1_turn = False\n",
    "    player2_turn = False\n",
    "    first_move = choose_first()\n",
    "    if first_move == 1:\n",
    "        print(\"Player 1 will go first\")\n",
    "        player1_turn = True\n",
    "    elif first_move == 2:\n",
    "        print(\"Player 2 will go first\")\n",
    "        player2_turn = True\n",
    "    game_on = False\n",
    "    play = input(\"Are you ready to play? Enter Yes or No.\")\n",
    "    if play == 'Yes':\n",
    "        game_on = True\n",
    "\n",
    "    while game_on:\n",
    "        clear_output()\n",
    "        display_board(board)\n",
    "        position = player_choice(board)\n",
    "        if player1_turn:\n",
    "            board = place_marker(board, player1_marker, position)\n",
    "            if win_check(board, player1_marker):\n",
    "                clear_output()\n",
    "                display_board(board)\n",
    "                print('Congratulations! Player1 has won the game!')\n",
    "                game_on = False\n",
    "            elif full_board_check(board):\n",
    "                clear_output()\n",
    "                display_board(board)\n",
    "                print('Game Tied !')\n",
    "                game_on = False\n",
    "            player1_turn = False\n",
    "            player2_turn = True\n",
    "        elif player2_turn:\n",
    "            board = place_marker(board, player2_marker, position)\n",
    "            if win_check(board, player2_marker):\n",
    "                clear_output()\n",
    "                display_board(board)\n",
    "                print('Congratulations! Player2 has won the game!')\n",
    "                game_on = False\n",
    "            elif full_board_check(board):\n",
    "                clear_output()\n",
    "                display_board(board)\n",
    "                print('Game Tied !')\n",
    "                game_on = False\n",
    "            player1_turn = True\n",
    "            player2_turn = False\n",
    "    if not replay():\n",
    "        break"
   ]
  },
  {
   "cell_type": "code",
   "execution_count": null,
   "metadata": {},
   "outputs": [],
   "source": []
  }
 ],
 "metadata": {
  "kernelspec": {
   "display_name": "Python 3",
   "language": "python",
   "name": "python3"
  },
  "language_info": {
   "codemirror_mode": {
    "name": "ipython",
    "version": 3
   },
   "file_extension": ".py",
   "mimetype": "text/x-python",
   "name": "python",
   "nbconvert_exporter": "python",
   "pygments_lexer": "ipython3",
   "version": "3.6.6"
  }
 },
 "nbformat": 4,
 "nbformat_minor": 2
}
