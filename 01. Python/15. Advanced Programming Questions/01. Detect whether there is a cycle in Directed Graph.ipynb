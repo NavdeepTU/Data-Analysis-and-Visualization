{
 "cells": [
  {
   "cell_type": "code",
   "execution_count": 11,
   "metadata": {},
   "outputs": [
    {
     "data": {
      "text/plain": [
       "' \\n1.\\tGiven a directed graph. Check whether the graph contains a cycle or not.\\n\\nInput Format:\\nFirst line of the custom input must contain two space separated integers V denoting the number \\nof vertices and E denoting the number of edges. Next E lines contains two space-separated \\nintegers denoting each edge.\\nExample:\\n4 4\\n0 1\\n1 2\\n2 3\\n3 3\\n\\nhttps://www.geeksforgeeks.org/detect-cycle-in-a-graph/\\n\\n'"
      ]
     },
     "execution_count": 11,
     "metadata": {},
     "output_type": "execute_result"
    }
   ],
   "source": [
    "\"\"\" \n",
    "1.\tGiven a directed graph. Check whether the graph contains a cycle or not.\n",
    "\n",
    "Input Format:\n",
    "First line of the custom input must contain two space separated integers V denoting the number \n",
    "of vertices and E denoting the number of edges. Next E lines contains two space-separated \n",
    "integers denoting each edge.\n",
    "Example:\n",
    "4 4\n",
    "0 1\n",
    "1 2\n",
    "2 3\n",
    "3 3\n",
    "\n",
    "Your task:\n",
    "You dont need to read input or print anything. Your task is to complete the function isCyclic() \n",
    "which takes the integer V denoting the number of vertices and adjacency list as input parameters \n",
    "and returns a boolean value denoting if the given directed graph contains a cycle or not.\n",
    "\n",
    "\n",
    "Expected Time Complexity: O(V + E)\n",
    "Expected Auxiliary Space: O(V)\n",
    "\n",
    "https://www.geeksforgeeks.org/detect-cycle-in-a-graph/\n",
    "\n",
    "\"\"\""
   ]
  },
  {
   "cell_type": "code",
   "execution_count": 12,
   "metadata": {},
   "outputs": [],
   "source": [
    "class Solution:\n",
    "    \n",
    "    def isCyclicHelper(self, start_vertex, color, V, adj):\n",
    "        color[start_vertex] = 1 # mark the node as grey\n",
    "        for adj_vertex in adj[start_vertex]:\n",
    "            if color[adj_vertex] == 1: # the vertex is not completely visited\n",
    "                return True # we have found the cycle\n",
    "            elif color[adj_vertex] == 0:\n",
    "                if self.isCyclicHelper(adj_vertex, color, V, adj):\n",
    "                    return True\n",
    "        color[start_vertex] = 2 # marking the node as black(completely visited)\n",
    "        return False\n",
    "    \n",
    "    def isCyclic(self, V, adj):\n",
    "        # Color coding intuition:\n",
    "        # 0 -> white -> the vertex has not been visited yet\n",
    "        # 1 -> grey -> the vertex itself has been visited but all its children/adjacent_vertices\n",
    "        #              are not yet visited\n",
    "        # 2 -> the vertex as well as its children are visited\n",
    "        color = [0]*V        # initially none of the vertices are visited\n",
    "        for start_vertex in range(0,V):\n",
    "            if color[start_vertex] == 0: # this will ensure we conside every vertex(for disconnected graph)\n",
    "                if self.isCyclicHelper(start_vertex, color, V, adj):\n",
    "                    return True\n",
    "        return False"
   ]
  },
  {
   "cell_type": "code",
   "execution_count": 13,
   "metadata": {},
   "outputs": [
    {
     "name": "stdout",
     "output_type": "stream",
     "text": [
      "1\n",
      "4 4\n",
      "0 1\n",
      "1 2\n",
      "2 3\n",
      "3 3\n",
      "1\n"
     ]
    }
   ],
   "source": [
    "#{ \n",
    " # Driver Code Starts\n",
    "#Initial Template for Python 3\n",
    "\n",
    "import sys\n",
    "sys.setrecursionlimit(10**6)\n",
    "        \n",
    "if __name__ == '__main__':\n",
    "    t = int(input())\n",
    "    for i in range(t):\n",
    "        V,E = list(map(int, input().strip().split()))\n",
    "        adj = [[] for i in range(V)]\n",
    "        for i in range(E):\n",
    "            a,b = map(int,input().strip().split())\n",
    "            adj[a].append(b)\n",
    "        ob = Solution()\n",
    "        \n",
    "        if ob.isCyclic(V, adj):\n",
    "            print(1)\n",
    "        else:\n",
    "            print(0)\n",
    "# } Driver Code Ends"
   ]
  },
  {
   "cell_type": "code",
   "execution_count": null,
   "metadata": {},
   "outputs": [],
   "source": []
  }
 ],
 "metadata": {
  "kernelspec": {
   "display_name": "Python 3",
   "language": "python",
   "name": "python3"
  },
  "language_info": {
   "codemirror_mode": {
    "name": "ipython",
    "version": 3
   },
   "file_extension": ".py",
   "mimetype": "text/x-python",
   "name": "python",
   "nbconvert_exporter": "python",
   "pygments_lexer": "ipython3",
   "version": "3.6.6"
  }
 },
 "nbformat": 4,
 "nbformat_minor": 2
}
