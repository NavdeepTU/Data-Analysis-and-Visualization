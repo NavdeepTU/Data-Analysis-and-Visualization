{
 "cells": [
  {
   "cell_type": "code",
   "execution_count": 1,
   "metadata": {},
   "outputs": [
    {
     "data": {
      "text/plain": [
       "'\\n10.\\tGiven an undirected graph. Check whether the graph contains a cycle or not.\\n\\nInput Format:\\nFirst line should contain V and E. Each of next E lines should contain two space separated integers.\\nExample:\\n\\n5 5\\n0 4\\n1 2\\n1 4\\n2 3\\n3 4\\n\\nhttps://www.geeksforgeeks.org/detect-cycle-undirected-graph/\\n'"
      ]
     },
     "execution_count": 1,
     "metadata": {},
     "output_type": "execute_result"
    }
   ],
   "source": [
    "\"\"\"\n",
    "10.\tGiven an undirected graph. Check whether the graph contains a cycle or not.\n",
    "\n",
    "Input Format:\n",
    "First line should contain V and E. Each of next E lines should contain two space \n",
    "separated integers.\n",
    "Example:\n",
    "\n",
    "5 5\n",
    "0 4\n",
    "1 2\n",
    "1 4\n",
    "2 3\n",
    "3 4\n",
    "\n",
    "Your Task:\n",
    "You don't need to read or print anything. Your task is to complete the function isCycle() \n",
    "which takes V denoting the number of vertices and adjacency list as input parameters and \n",
    "returns a boolean value denoting if the undirected graph contains any cycle or not, return \n",
    "1 if a cycle is present else return 0.\n",
    "\n",
    "NOTE: The adjacency list denotes the edges of the graph where edges[i] stores all other \n",
    "vertices to which ith vertex is connected.\n",
    "\n",
    " \n",
    "\n",
    "Expected Time Complexity: O(V + E)\n",
    "Expected Space Complexity: O(V)\n",
    "\n",
    "https://www.geeksforgeeks.org/detect-cycle-undirected-graph/\n",
    "\"\"\""
   ]
  },
  {
   "cell_type": "code",
   "execution_count": 2,
   "metadata": {},
   "outputs": [],
   "source": [
    "from typing import List\n",
    "class Solution:\n",
    "    def isCycleHelper(self, V, color, start_vertex, parent_vertex, adj):\n",
    "        color[start_vertex] = 1\n",
    "        for adj_vertex in adj[start_vertex]:\n",
    "            if adj_vertex != parent_vertex: # checking if adjacent vertex is not equal to the parent vertex as it is a undirected graph\n",
    "                if color[adj_vertex] == 1: # we have found the cycle\n",
    "                    return True\n",
    "                elif color[adj_vertex] == 0: # apply DFS on it\n",
    "                    if self.isCycleHelper(V, color, adj_vertex, start_vertex, adj):\n",
    "                        return True\n",
    "        color[start_vertex] = 2\n",
    "        return False\n",
    "        \n",
    "    def isCycle(self, V: int, adj: List[List[int]]) -> bool:\n",
    "        color = [0]*V\n",
    "        for vertex in range(0, V):\n",
    "            if color[vertex] == 0:\n",
    "                if self.isCycleHelper(V, color, vertex, None, adj):\n",
    "                    return True\n",
    "        return False"
   ]
  },
  {
   "cell_type": "code",
   "execution_count": 4,
   "metadata": {},
   "outputs": [
    {
     "name": "stdout",
     "output_type": "stream",
     "text": [
      "1\n",
      "5 5\n",
      "0 4\n",
      "1 2\n",
      "1 4\n",
      "2 3\n",
      "3 4\n",
      "1\n"
     ]
    }
   ],
   "source": [
    "\n",
    "\n",
    "#{ \n",
    " # Driver Code Starts\n",
    "\n",
    "\n",
    "if __name__ == '__main__':\n",
    "\n",
    "    T=int(input())\n",
    "    for i in range(T):\n",
    "        V, E = map(int, input().split())\n",
    "        adj = [[] for i in range(V)]\n",
    "        for _ in range(E):\n",
    "            u, v = map(int, input().split())\n",
    "            adj[u].append(v)\n",
    "            adj[v].append(u)\n",
    "        obj = Solution()\n",
    "        ans = obj.isCycle(V, adj)\n",
    "        if(ans):\n",
    "            print(\"1\")\n",
    "        else:\n",
    "            print(\"0\")\n",
    "\n",
    "    # } Driver Code Ends"
   ]
  },
  {
   "cell_type": "code",
   "execution_count": null,
   "metadata": {},
   "outputs": [],
   "source": []
  }
 ],
 "metadata": {
  "kernelspec": {
   "display_name": "Python 3",
   "language": "python",
   "name": "python3"
  },
  "language_info": {
   "codemirror_mode": {
    "name": "ipython",
    "version": 3
   },
   "file_extension": ".py",
   "mimetype": "text/x-python",
   "name": "python",
   "nbconvert_exporter": "python",
   "pygments_lexer": "ipython3",
   "version": "3.6.6"
  }
 },
 "nbformat": 4,
 "nbformat_minor": 2
}
