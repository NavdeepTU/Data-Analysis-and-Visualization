{
 "cells": [
  {
   "cell_type": "code",
   "execution_count": 2,
   "metadata": {},
   "outputs": [
    {
     "data": {
      "text/plain": [
       "'\\nThere is a mobile piece and a stationary piece on the N×M chessboard. The available moves \\nof the mobile piece are the same as set out in the image below. You need to capture \\nthe stationary piece by moving the mobile piece with the minimum amount of moves.\\nWrite a program to find out the minimum number moves to catch a piece.\\nTime limit:1 second (java: 2 seconds)\\n\\nInput\\nSeveral test cases can be included in the inputs. \\nT, the number of cases is given in the first row of the inputs. \\nAfter that, the test cases as many as T (T ≤ 20) are given in a row. \\nN, the numbers of the rows and M, the number of columns of the chessboard are given in the \\nfirst row of each test case. R & C is the location information \\nof the attacking piece and S & K is the location of the defending pieces and are \\ngiven in the row at the second line. However, the location of the uppermost end of \\nthe left end is (1, 1)\\n\\nOutput\\nFor each test case, you should print \"Case #T\" in the first line where T means the case number. For each test case, you should output the minimum number of movements to catch a defending piece at the first line of each test case. If not moveable, output equals ‘-1’.\\n[I/O Example]\\nInput \\n2\\n9 9\\n3 5 2 8\\n20 20\\n2 3 7 9\\n\\nOutput\\n2\\n5\\nSample input\\n5\\n10 10\\n1 1 10 10\\n20 20\\n2 3 7 9\\n30 30\\n2 15 29 29\\n40 40\\n2 3 1 40\\n45 45\\n40 10 27 40\\n'"
      ]
     },
     "execution_count": 2,
     "metadata": {},
     "output_type": "execute_result"
    }
   ],
   "source": [
    "'''\n",
    "There is a mobile piece and a stationary piece on the N×M chessboard. The available moves \n",
    "of the mobile piece are the same as set out in the image below. You need to capture \n",
    "the stationary piece by moving the mobile piece with the minimum amount of moves.\n",
    "Write a program to find out the minimum number moves to catch a piece.\n",
    "Time limit:1 second (java: 2 seconds)\n",
    "\n",
    "Input\n",
    "Several test cases can be included in the inputs. \n",
    "T, the number of cases is given in the first row of the inputs. \n",
    "After that, the test cases as many as T (T ≤ 20) are given in a row. \n",
    "N, the numbers of the rows and M, the number of columns of the chessboard are given in the \n",
    "first row of each test case. R & C is the location information \n",
    "of the attacking piece and S & K is the location of the defending pieces and are \n",
    "given in the row at the second line. However, the location of the uppermost end of \n",
    "the left end is (1, 1)\n",
    "\n",
    "Output\n",
    "For each test case, you should print \"Case #T\" in the first line where T means the case number. \n",
    "For each test case, you should output the minimum number of movements to catch a \n",
    "defending piece at the first line of each test case. If not moveable, output equals ‘-1’.\n",
    "[I/O Example]\n",
    "Input \n",
    "2\n",
    "9 9\n",
    "3 5 2 8\n",
    "20 20\n",
    "2 3 7 9\n",
    "\n",
    "Output\n",
    "2\n",
    "5\n",
    "Sample input\n",
    "5\n",
    "10 10\n",
    "1 1 10 10\n",
    "20 20\n",
    "2 3 7 9\n",
    "30 30\n",
    "2 15 29 29\n",
    "40 40\n",
    "2 3 1 40\n",
    "45 45\n",
    "40 10 27 40\n",
    "'''"
   ]
  },
  {
   "cell_type": "code",
   "execution_count": 3,
   "metadata": {},
   "outputs": [],
   "source": [
    "class Point:\n",
    "    \n",
    "    def __init__(self, x, y):\n",
    "        self.x = x\n",
    "        self.y = y"
   ]
  },
  {
   "cell_type": "code",
   "execution_count": null,
   "metadata": {},
   "outputs": [],
   "source": [
    "def minimumMoves(N, M, R, C, S, K):\n",
    "    board = [[0 for c in range(M+1)] for r in range(N+1)]\n",
    "    queue = []\n",
    "    attacking_piece = Point(R, C)\n",
    "    defending_piece = Point(S, K)\n",
    "    move_x = (-2, -2, -1, 1, 2, 2, 1, -1)\n",
    "    move_y = (1, -1, 2, 2, 1, -1, -2, -2)\n",
    "    queue.append(attacking_piece)\n",
    "    moves = -1\n",
    "    while True:\n",
    "        curr_point = queue.pop(0)\n",
    "        dest = False\n",
    "        for i in range(8):\n",
    "            new_x = curr_point.x + move_x[i]\n",
    "            new_y = curr_point.y + move_y[i]\n",
    "            new_point = Point(new_x, new_y)\n",
    "            if isValid(N, M, new_point):\n",
    "                board[new_point.x][new_point.y] = board[curr_point.x][curr_point.y] + 1\n",
    "                "
   ]
  },
  {
   "cell_type": "code",
   "execution_count": null,
   "metadata": {},
   "outputs": [],
   "source": [
    "if __name__ == '__main__':\n",
    "    T = int(input())\n",
    "    N, M = list(map(int, input().strip().split()))\n",
    "    R, C, S, K = list(map(int, input().strip().split()))\n",
    "    minimum_moves = minimumMoves(N, M, R, C, S, K)\n",
    "    print(f'Case #{T}')\n",
    "    print(minimum_moves)"
   ]
  }
 ],
 "metadata": {
  "kernelspec": {
   "display_name": "Python 3",
   "language": "python",
   "name": "python3"
  },
  "language_info": {
   "codemirror_mode": {
    "name": "ipython",
    "version": 3
   },
   "file_extension": ".py",
   "mimetype": "text/x-python",
   "name": "python",
   "nbconvert_exporter": "python",
   "pygments_lexer": "ipython3",
   "version": "3.6.6"
  }
 },
 "nbformat": 4,
 "nbformat_minor": 2
}
