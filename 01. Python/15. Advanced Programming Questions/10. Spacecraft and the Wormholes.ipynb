{
 "cells": [
  {
   "cell_type": "code",
   "execution_count": 65,
   "metadata": {},
   "outputs": [
    {
     "data": {
      "text/plain": [
       "'\\nThere is a source (S) and destination (D) and a spacecraft has to go from S to D. \\nThere are N number of wormholes in between which has following properties:\\nEach wormhole has an entry and an exit. \\nEach wormhole is bi-directional i.e. one can enter and exit from any of the ends. \\nThe time to cross the wormhole is given and the space craft may or may not use the wormhole \\nto reach D. \\nThe cost to travel outside wormhole between two points (x1, y1) and (x2, y2) is given by a \\nformula |x1 - x2| + |y1 - y2|\\nwhere, (x1, y1) and (x2, y2) are the co-ordinates of two points. \\nThe co-ordinates of S and D are given and we have to find the minimum cost to reach D from S. \\nThe main problem here is to minimum cost to reach spaceship from source to destination \\nco-ordinate using any number of warm-hole. \\nIt is ok if you wont use any warmhole.\\nNote: It’s not mandatory to consider all the wormholes\\n\\nInput Format\\nFirst line contains t, number of test cases\\nThere are N number of warmholes each warmhole has 5 values. First 2 values are starting \\nco-ordinate of warmhole and after that value no. 3 and 4 represents ending co-ordinate of \\nwarmhole and last 5th value is represents cost to pass through this warmhole.\\nLine 1 contains value of N. Line 2 Conatins Source and Destination coordinate. Next N lines \\ncontain the warmhole information.\\nConstraints\\n1 < t < 10\\n1 < N < 6\\n-1 < x < 101 \\n-1 < y < 101 \\n0 < cost < 101\\nOutput Format\\nOutput a single integer (minimum cost)\\nSample Input 0\\n1\\n3\\n0 0 100 100\\n1 2 120 120 16\\n2 5 120 100 21\\n6 8 150 180 16\\nSample Output 0\\n48\\n'"
      ]
     },
     "execution_count": 65,
     "metadata": {},
     "output_type": "execute_result"
    }
   ],
   "source": [
    "\"\"\"\n",
    "There is a source (S) and destination (D) and a spacecraft has to go from S to D. \n",
    "There are N number of wormholes in between which has following properties:\n",
    "Each wormhole has an entry and an exit. \n",
    "Each wormhole is bi-directional i.e. one can enter and exit from any of the ends. \n",
    "The time to cross the wormhole is given and the space craft may or may not use the wormhole \n",
    "to reach D. \n",
    "The cost to travel outside wormhole between two points (x1, y1) and (x2, y2) is given by a \n",
    "formula |x1 - x2| + |y1 - y2|\n",
    "where, (x1, y1) and (x2, y2) are the co-ordinates of two points. \n",
    "The co-ordinates of S and D are given and we have to find the minimum cost to reach D from S. \n",
    "The main problem here is to minimum cost to reach spaceship from source to destination \n",
    "co-ordinate using any number of warm-hole. \n",
    "It is ok if you wont use any warmhole.\n",
    "Note: It’s not mandatory to consider all the wormholes\n",
    "\n",
    "Input Format\n",
    "First line contains t, number of test cases\n",
    "There are N number of warmholes each warmhole has 5 values. First 2 values are starting \n",
    "co-ordinate of warmhole and after that value no. 3 and 4 represents ending co-ordinate of \n",
    "warmhole and last 5th value is represents cost to pass through this warmhole.\n",
    "Line 1 contains value of N. Line 2 Conatins Source and Destination coordinate. Next N lines \n",
    "contain the warmhole information.\n",
    "Constraints\n",
    "1 < t < 10\n",
    "1 < N < 6\n",
    "-1 < x < 101 \n",
    "-1 < y < 101 \n",
    "0 < cost < 101\n",
    "Output Format\n",
    "Output a single integer (minimum cost)\n",
    "Sample Input 0\n",
    "1\n",
    "3\n",
    "0 0 100 100\n",
    "1 2 120 120 16\n",
    "2 5 120 100 21\n",
    "6 8 150 180 16\n",
    "Sample Output 0\n",
    "48\n",
    "\"\"\""
   ]
  },
  {
   "cell_type": "code",
   "execution_count": 66,
   "metadata": {},
   "outputs": [],
   "source": [
    "import math\n",
    "# it is global variable to store the minimum final result\n",
    "minimumTime = math.inf;\n",
    "\n",
    "def findMinTime(sourceX, sourceY, destX, destY, distace, wormholesCount, holes):\n",
    "    global minimumTime\n",
    "    # directly going to the destination without using any wormhole\n",
    "    minimumTime = min(minimumTime, abs(sourceX - destX) + abs(sourceY - destY) + distace)\n",
    "\n",
    "    # try to enter from all wormholes using back-tracking\n",
    "    for i in range(wormholesCount):\n",
    "        # if un-visited wormsholes then try to visit recursively and check minimum Time.\n",
    "        if not visited[i]:\n",
    "            visited[i] = True; # Mark ith wormhole as visited\n",
    "\n",
    "            # first try to enter from one end point and off from another end point of ith wormhole.\n",
    "            # So total time required for that would be tempTime;\n",
    "            tempTime = abs(sourceX - holes[i][0]) + abs(sourceY - holes[i][1]) + distace + \\\n",
    "                                                                                holes[i][4];\n",
    "            findMinTime(holes[i][2], holes[i][3], destX, destY, tempTime, wormholesCount, holes);\n",
    "\n",
    "            # Now try for reverse end points that can also give minimum Time to reach to \n",
    "            # destination\n",
    "            tempTime = abs(sourceX - holes[i][2]) + abs(sourceY - holes[i][3]) + distace + \\\n",
    "                                                                                holes[i][4];\n",
    "            findMinTime(holes[i][0], holes[i][1], destX, destY, tempTime, wormholesCount, holes);\n",
    "\n",
    "            visited[i] = False; # Mark ith wormhole as un-visited"
   ]
  },
  {
   "cell_type": "code",
   "execution_count": 67,
   "metadata": {},
   "outputs": [],
   "source": [
    "\n",
    "# Spaceship source position in x-y plane is (sourceX, sourceY)\n",
    "sourceX = 0\n",
    "sourceY = 0\n",
    "\n",
    "# Spaceship Destination position in x-y plane is (destX, destY)\n",
    "destX = 100\n",
    "destY = 100\n",
    "\n",
    "# visited[] 1-d array tells the wormholes visited or not.\n",
    "visited = [False] * wormholesCount\n",
    "\n",
    "#Spaceship can use wormholes to reach from source to destination\n",
    "wormholesCount = 3\n",
    "holes = []\n",
    "holes.append([1, 2, 120, 120, 16])\n",
    "holes.append([2, 5, 120, 100, 21])\n",
    "holes.append([6, 8, 150, 180, 16])"
   ]
  },
  {
   "cell_type": "code",
   "execution_count": 68,
   "metadata": {},
   "outputs": [],
   "source": [
    "findMinTime(sourceX, sourceY, destX, destY, 0, wormholesCount, holes)"
   ]
  },
  {
   "cell_type": "code",
   "execution_count": 69,
   "metadata": {},
   "outputs": [
    {
     "name": "stdout",
     "output_type": "stream",
     "text": [
      "48\n"
     ]
    }
   ],
   "source": [
    "print(minimumTime)"
   ]
  },
  {
   "cell_type": "code",
   "execution_count": 70,
   "metadata": {},
   "outputs": [],
   "source": [
    "minimumTime = math.inf;\n",
    "holes = []\n",
    "holes.append([1, 2, 120, 120, 2])\n",
    "holes.append([4, 5, 120, 100, 3])\n",
    "holes.append([6, 8, 150, 180, 4])"
   ]
  },
  {
   "cell_type": "code",
   "execution_count": 71,
   "metadata": {},
   "outputs": [
    {
     "name": "stdout",
     "output_type": "stream",
     "text": [
      "32\n"
     ]
    }
   ],
   "source": [
    "findMinTime(sourceX, sourceY, destX, destY, 0, wormholesCount, holes)\n",
    "print(minimumTime)"
   ]
  },
  {
   "cell_type": "code",
   "execution_count": 72,
   "metadata": {},
   "outputs": [],
   "source": [
    "minimumTime = math.inf;\n",
    "holes = []\n",
    "holes.append([1, 2, 120, 120, 2])\n",
    "holes.append([4, 5, 120, 100, 3])\n",
    "holes.append([6, 8, 102, 102, 4])"
   ]
  },
  {
   "cell_type": "code",
   "execution_count": 73,
   "metadata": {},
   "outputs": [],
   "source": [
    "findMinTime(sourceX, sourceY, destX, destY, 0, wormholesCount, holes)"
   ]
  },
  {
   "cell_type": "code",
   "execution_count": 74,
   "metadata": {},
   "outputs": [
    {
     "name": "stdout",
     "output_type": "stream",
     "text": [
      "22\n"
     ]
    }
   ],
   "source": [
    "print(minimumTime)"
   ]
  }
 ],
 "metadata": {
  "kernelspec": {
   "display_name": "Python 3",
   "language": "python",
   "name": "python3"
  },
  "language_info": {
   "codemirror_mode": {
    "name": "ipython",
    "version": 3
   },
   "file_extension": ".py",
   "mimetype": "text/x-python",
   "name": "python",
   "nbconvert_exporter": "python",
   "pygments_lexer": "ipython3",
   "version": "3.6.6"
  }
 },
 "nbformat": 4,
 "nbformat_minor": 2
}
