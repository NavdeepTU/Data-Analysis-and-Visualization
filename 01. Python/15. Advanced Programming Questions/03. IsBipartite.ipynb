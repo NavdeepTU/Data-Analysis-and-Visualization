{
 "cells": [
  {
   "cell_type": "code",
   "execution_count": 1,
   "metadata": {},
   "outputs": [],
   "source": [
    "\"\"\" \n",
    "A Bipartite Graph is a graph whose vertices can be divided into two independent sets, \n",
    "U and V such that every edge (u, v) either connects a vertex from U to V or a vertex from \n",
    "V to U. In other words, for every edge (u, v), either u belongs to U and v to V, or u belongs \n",
    "to V and v to U. We can also say that there is no edge that connects vertices of same set.\n",
    "\n",
    "A bipartite graph is possible if the graph coloring is possible using two colors \n",
    "such that vertices in a set are colored with the same color. Note that it is possible \n",
    "to color a cycle graph with even cycle using two colors.\n",
    "\n",
    "It is not possible to color a cycle graph with odd cycle using two colors.\n",
    "\n",
    "Given an adjacency list of a graph adj  of V no. of vertices having 0 based index. \n",
    "Check whether the graph is bipartite or not.\n",
    "\n",
    "Input Format:\n",
    "First line should contain V and E. Each of next E lines should contain two space separated integers.\n",
    "Example:\n",
    "\n",
    "3 2\n",
    "0 1\n",
    "1 2\n",
    "\"\"\""
   ]
  },
  {
   "cell_type": "code",
   "execution_count": 15,
   "metadata": {},
   "outputs": [],
   "source": [
    "class Solution:\n",
    "    \n",
    "    def isBipartiteHelper(self, start_vertex, adj, colors):\n",
    "        queue = []\n",
    "        colors[start_vertex] = 1\n",
    "        queue.append(start_vertex)\n",
    "        isBipartite = True\n",
    "        while len(queue) > 0:\n",
    "            curr_vertex = queue.pop(0)  # dequeue operation(removing from front)\n",
    "            for adj_vertex in adj[curr_vertex]:\n",
    "                if colors[adj_vertex] == 0:\n",
    "                    colors[adj_vertex] = 1 if colors[curr_vertex] == 2 else 2\n",
    "                    queue.append(adj_vertex) # enqueue operation(adding to rear)\n",
    "                elif colors[adj_vertex] == colors[curr_vertex]:\n",
    "                    isBipartite = False\n",
    "                    break\n",
    "            if not isBipartite:\n",
    "                break\n",
    "        return isBipartite\n",
    "        \n",
    "    def isBipartite(self, V, adj):\n",
    "        colors = [0]*V\n",
    "        isBipartite = True\n",
    "        for idx, color in enumerate(colors):\n",
    "            if color == 0:\n",
    "                isBipartite = isBipartite and self.isBipartiteHelper(idx, adj, colors)\n",
    "            if not isBipartite:\n",
    "                break\n",
    "        return isBipartite"
   ]
  },
  {
   "cell_type": "code",
   "execution_count": 16,
   "metadata": {},
   "outputs": [
    {
     "name": "stdout",
     "output_type": "stream",
     "text": [
      "1\n",
      "3 2\n",
      "0 1\n",
      "1 2\n",
      "1\n"
     ]
    }
   ],
   "source": [
    "#{ \n",
    " # Driver Code Starts\n",
    "if __name__ == '__main__':\n",
    "    T=int(input())\n",
    "    for i in range(T):\n",
    "        V, E = map(int, input().strip().split())\n",
    "        adj = [[] for i in range(V)]\n",
    "        for i in range(E):\n",
    "            u, v = map(int, input().strip().split())\n",
    "            adj[u].append(v)\n",
    "            adj[v].append(u)\n",
    "        obj = Solution()\n",
    "        ans = obj.isBipartite(V, adj)\n",
    "        if(ans):\n",
    "            print(\"1\")\n",
    "        else:\n",
    "            print(\"0\")\n",
    "\n",
    "# } Driver Code Ends"
   ]
  },
  {
   "cell_type": "code",
   "execution_count": null,
   "metadata": {},
   "outputs": [],
   "source": []
  }
 ],
 "metadata": {
  "kernelspec": {
   "display_name": "Python 3",
   "language": "python",
   "name": "python3"
  },
  "language_info": {
   "codemirror_mode": {
    "name": "ipython",
    "version": 3
   },
   "file_extension": ".py",
   "mimetype": "text/x-python",
   "name": "python",
   "nbconvert_exporter": "python",
   "pygments_lexer": "ipython3",
   "version": "3.6.6"
  }
 },
 "nbformat": 4,
 "nbformat_minor": 2
}
