{
 "cells": [
  {
   "cell_type": "code",
   "execution_count": 1,
   "metadata": {},
   "outputs": [],
   "source": [
    "# A tyre is called Samsung tyre if it passes the test for \n",
    "# any possible combination of inflation and deflation.\n",
    "\n",
    "# A tyre is considered defective if at any point during testing\n",
    "# its pressure goes below 0 or above the maximum pressure k.\n",
    "\n",
    "# T - No. of tyres\n",
    "# N = No. of test ( 1 test = 1 inflation + 1 deflation )\n",
    "# K = Max pressure\n",
    "\n",
    "# Print the minimum initial pressure of each tyre for which\n",
    "# it passes the given tests.\n",
    "\n",
    "# Print -1 if it fails"
   ]
  },
  {
   "cell_type": "code",
   "execution_count": 2,
   "metadata": {},
   "outputs": [],
   "source": [
    "n = 0\n",
    "k = 0\n",
    "inflate = []\n",
    "deflate = []\n",
    "flag = False\n",
    "\n",
    "def swap(i, j):\n",
    "    temp = inflate[i]\n",
    "    inflate[i] = inflate[j]\n",
    "    inflate[j] = temp\n",
    "    \n",
    "    temp = deflate[i]\n",
    "    deflate[i] = deflate[j]\n",
    "    deflate[j] = temp\n",
    "    \n",
    "def permute(idx, p):\n",
    "    if idx == n:\n",
    "        temp = p\n",
    "        for i in range(n):\n",
    "            temp += inflate[i]\n",
    "            if temp > k:\n",
    "                return\n",
    "            temp -= deflate[i]\n",
    "            if temp < 0:\n",
    "                return\n",
    "        if temp >= 0 and temp <= k:\n",
    "            flag = True\n",
    "    for i in range(idx, n+1):\n",
    "        swap(i, idx)\n",
    "        permute(idx+1, p)\n",
    "        swap(i, idx)\n",
    "    \n",
    "T = int(input())\n",
    "for tests in range(T):\n",
    "    n = int(input())\n",
    "    k = int(input())\n",
    "    ans = -1\n",
    "    for i in range(n):\n",
    "        inflate.append(int(input()))\n",
    "    for i in range(n):\n",
    "        deflate.append(int(input()))\n",
    "    for i in range(k):\n",
    "        flag = False\n",
    "        permute(0, i)\n",
    "        if flag:\n",
    "            ans = i\n",
    "            break\n",
    "        else:\n",
    "            ans = -1\n",
    "    print(ans)"
   ]
  },
  {
   "cell_type": "code",
   "execution_count": 3,
   "metadata": {},
   "outputs": [
    {
     "name": "stdout",
     "output_type": "stream",
     "text": [
      "10\n"
     ]
    }
   ],
   "source": []
  },
  {
   "cell_type": "code",
   "execution_count": null,
   "metadata": {},
   "outputs": [],
   "source": []
  }
 ],
 "metadata": {
  "kernelspec": {
   "display_name": "Python 3",
   "language": "python",
   "name": "python3"
  },
  "language_info": {
   "codemirror_mode": {
    "name": "ipython",
    "version": 3
   },
   "file_extension": ".py",
   "mimetype": "text/x-python",
   "name": "python",
   "nbconvert_exporter": "python",
   "pygments_lexer": "ipython3",
   "version": "3.6.6"
  }
 },
 "nbformat": 4,
 "nbformat_minor": 2
}
